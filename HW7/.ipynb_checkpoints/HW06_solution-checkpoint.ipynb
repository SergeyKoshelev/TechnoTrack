{
 "cells": [
  {
   "cell_type": "markdown",
   "metadata": {
    "id": "MxIOeYeJzgjk"
   },
   "source": [
    "# ДЗ №6 - автокодировщики для идентификации аномалий"
   ]
  },
  {
   "cell_type": "markdown",
   "metadata": {
    "id": "iw-_GVh6zgjm"
   },
   "source": [
    "В этом ДЗ вам предстоит применить модель сврточного автокодировщика для идентификации аномалий в данных."
   ]
  },
  {
   "cell_type": "markdown",
   "metadata": {
    "id": "O__Pz-5azgjn"
   },
   "source": [
    "Для этого вам потребуется создать сверточный автокодировщик, обучить его и применить к тестовым данным.\n",
    "\n",
    "Основная идея фильтрации аномалий состоит в том, что экземпляры выборки, являющиеся аномалиями, сильно отличаются от всех остальных объектов. Кроме того, их мало по сранению с размером всей выборки.\n",
    "Этот набор факторов приводит к тому, что автокодировщик, обученный на данных тренировочной выборки, будет довольно плохо восстанавливать примеры-аномалии. То есть, значения функции потерь на таких примерах ожидается нетипично высоким."
   ]
  },
  {
   "cell_type": "code",
   "execution_count": 1,
   "metadata": {
    "id": "itCYDokgzgjn"
   },
   "outputs": [],
   "source": [
    "import torch\n",
    "import torchvision\n",
    "import numpy as np\n",
    "import matplotlib.pyplot as plt\n",
    "import torch.nn as nn\n",
    "import torch.nn.functional as F\n",
    "from torch.utils.data import Dataset, DataLoader\n",
    "from tqdm import tqdm\n",
    "from PIL import Image\n",
    "\n",
    "from typing import Tuple, List, Type, Dict, Any"
   ]
  },
  {
   "cell_type": "code",
   "execution_count": 2,
   "metadata": {
    "colab": {
     "base_uri": "https://localhost:8080/"
    },
    "id": "D0qzJZHGzsiR",
    "outputId": "7ff122c7-6af4-4926-94d3-d414c18dba1a"
   },
   "outputs": [
    {
     "name": "stdout",
     "output_type": "stream",
     "text": [
      "Mounted at /content/drive\n"
     ]
    }
   ],
   "source": [
    "from google.colab import drive\n",
    "drive.mount('/content/drive')"
   ]
  },
  {
   "cell_type": "code",
   "execution_count": 71,
   "metadata": {
    "colab": {
     "base_uri": "https://localhost:8080/"
    },
    "id": "hf1NZq24zgjo",
    "outputId": "7e64e43e-97e6-4a4e-a468-d9bbd52d388b"
   },
   "outputs": [
    {
     "data": {
      "text/plain": [
       "device(type='cuda')"
      ]
     },
     "execution_count": 71,
     "metadata": {
      "tags": []
     },
     "output_type": "execute_result"
    }
   ],
   "source": [
    "device = torch.device(\"cuda\" if torch.cuda.is_available() else \"cpu\")\n",
    "device"
   ]
  },
  {
   "cell_type": "code",
   "execution_count": 4,
   "metadata": {
    "colab": {
     "base_uri": "https://localhost:8080/"
    },
    "id": "-N5RYRUG0EW1",
    "outputId": "d5ccc1dc-de2b-4fa7-bc8a-b83d6fec699e"
   },
   "outputs": [
    {
     "name": "stdout",
     "output_type": "stream",
     "text": [
      "Fri May  7 18:12:44 2021       \n",
      "+-----------------------------------------------------------------------------+\n",
      "| NVIDIA-SMI 465.19.01    Driver Version: 460.32.03    CUDA Version: 11.2     |\n",
      "|-------------------------------+----------------------+----------------------+\n",
      "| GPU  Name        Persistence-M| Bus-Id        Disp.A | Volatile Uncorr. ECC |\n",
      "| Fan  Temp  Perf  Pwr:Usage/Cap|         Memory-Usage | GPU-Util  Compute M. |\n",
      "|                               |                      |               MIG M. |\n",
      "|===============================+======================+======================|\n",
      "|   0  Tesla T4            Off  | 00000000:00:04.0 Off |                    0 |\n",
      "| N/A   39C    P8    10W /  70W |      3MiB / 15109MiB |      0%      Default |\n",
      "|                               |                      |                  N/A |\n",
      "+-------------------------------+----------------------+----------------------+\n",
      "                                                                               \n",
      "+-----------------------------------------------------------------------------+\n",
      "| Processes:                                                                  |\n",
      "|  GPU   GI   CI        PID   Type   Process name                  GPU Memory |\n",
      "|        ID   ID                                                   Usage      |\n",
      "|=============================================================================|\n",
      "|  No running processes found                                                 |\n",
      "+-----------------------------------------------------------------------------+\n",
      "/content/drive/MyDrive/HW6\n"
     ]
    }
   ],
   "source": [
    "!nvidia-smi\n",
    "%cd /content/drive/MyDrive/HW6/"
   ]
  },
  {
   "cell_type": "code",
   "execution_count": 5,
   "metadata": {
    "id": "EZoHNLQWzgjo"
   },
   "outputs": [],
   "source": [
    "class DS(Dataset):\n",
    "    def __init__(self, data, transform=None):\n",
    "        self.data = data\n",
    "        self.transform = transform\n",
    "\n",
    "    def __getitem__(self, index):\n",
    "        x = self.data[index]\n",
    "\n",
    "        if self.transform:\n",
    "            x = Image.fromarray(x.astype(np.uint8))\n",
    "            x = self.transform(x)\n",
    "\n",
    "        return x\n",
    "\n",
    "    def __len__(self):\n",
    "        return len(self.data)"
   ]
  },
  {
   "cell_type": "markdown",
   "metadata": {
    "id": "1etPj2Uqzgjo"
   },
   "source": [
    "### Задание 2: Напишите пайплайн для предобработки и аугументации данных.\n",
    "Стоит заметить, что нельзя применять сильные аугментации, так как они могут уже быть скорее аномалиями. Таким образом, гауссовый шум и случайное вырезания применять не стоит."
   ]
  },
  {
   "cell_type": "code",
   "execution_count": 6,
   "metadata": {
    "id": "V0V2fD5Szgjp"
   },
   "outputs": [],
   "source": [
    "train_transforms = torchvision.transforms.Compose([\n",
    "    #torchvision.transforms.GaussianBlur(kernel_size=3, sigma=(0.2, 0.8)), #can be used for denoising\n",
    "    torchvision.transforms.RandomAffine(degrees=45, translate=(0.2, 0.2), scale=(0.7, 1.3)),\n",
    "    torchvision.transforms.ToTensor(),\n",
    "    #torchvision.transforms.RandomErasing(p=0.2, scale=(0.05,0.1)) #can be used for recovering\n",
    "])\n",
    "\n",
    "val_transforms = torchvision.transforms.Compose([\n",
    "    torchvision.transforms.RandomAffine(degrees=45, translate=(0.2, 0.2), scale=(0.7, 1.3)),\n",
    "    torchvision.transforms.ToTensor()])"
   ]
  },
  {
   "cell_type": "code",
   "execution_count": 7,
   "metadata": {
    "id": "BU1LxcFTzgjp"
   },
   "outputs": [],
   "source": [
    "mnist = np.load('/content/drive/MyDrive/HW6/mnist_corrupted.npz')\n",
    "mnist_train_samples = mnist['x_train']\n",
    "mnist_test_samples = mnist['x_test']\n",
    "train_dataset = DS(mnist_train_samples, train_transforms)\n",
    "val_dataset = DS(mnist_test_samples, val_transforms)"
   ]
  },
  {
   "cell_type": "markdown",
   "metadata": {
    "id": "UFp03zXCzgjp"
   },
   "source": [
    "### Визуализация исходных данных"
   ]
  },
  {
   "cell_type": "code",
   "execution_count": 8,
   "metadata": {
    "colab": {
     "base_uri": "https://localhost:8080/",
     "height": 162
    },
    "id": "OV3zemG8zgjp",
    "outputId": "9f7aef5c-bec8-491c-d6ec-8298a5fbef68"
   },
   "outputs": [
    {
     "data": {
      "image/png": "[encoded data removed]",
      "text/plain": [
       "<Figure size 2400x600 with 8 Axes>"
      ]
     },
     "metadata": {
      "tags": []
     },
     "output_type": "display_data"
    }
   ],
   "source": [
    "indices = np.random.randint(0, len(mnist_train_samples), size=8)\n",
    "\n",
    "fig, axes = plt.subplots(nrows=1, ncols=8, figsize=(8, 2), dpi=300)\n",
    "for i, ax in enumerate(axes):\n",
    "    sample_index = indices[i]\n",
    "    sample = mnist_train_samples[sample_index]\n",
    "    ax.imshow(sample, cmap='gray')\n",
    "    ax.set_xticks([])\n",
    "    ax.set_yticks([])\n",
    "plt.tight_layout()\n",
    "fig.patch.set_facecolor('white')"
   ]
  },
  {
   "cell_type": "markdown",
   "metadata": {
    "id": "H2cqZtRizgjq"
   },
   "source": [
    "### Задание 3: отобразите несколько произвольных примеров обучающей выборки.\n",
    "Несколько примеров после применения аугментаций."
   ]
  },
  {
   "cell_type": "code",
   "execution_count": 9,
   "metadata": {
    "colab": {
     "base_uri": "https://localhost:8080/",
     "height": 162
    },
    "id": "ZjO0TXUVzgjq",
    "outputId": "14d62be8-be11-443e-a33a-065c2db4ece7"
   },
   "outputs": [
    {
     "data": {
      "image/png": "[encoded data removed]",
      "text/plain": [
       "<Figure size 2400x600 with 8 Axes>"
      ]
     },
     "metadata": {
      "tags": []
     },
     "output_type": "display_data"
    }
   ],
   "source": [
    "indices = np.random.randint(0, len(train_dataset), size=8)\n",
    "\n",
    "fig, axes = plt.subplots(nrows=1, ncols=8, figsize=(8, 2), dpi=300)\n",
    "for i, ax in enumerate(axes):\n",
    "    sample_index = indices[i]\n",
    "    sample = train_dataset[sample_index]\n",
    "    ax.imshow(np.squeeze(sample.cpu().numpy()), cmap='gray')\n",
    "    ax.set_xticks([])\n",
    "    ax.set_yticks([])\n",
    "plt.tight_layout()\n",
    "fig.patch.set_facecolor('white')"
   ]
  },
  {
   "cell_type": "markdown",
   "metadata": {
    "id": "ol-wu_-Xzgjq"
   },
   "source": [
    "---\n",
    "## Свёрточный автокодировщик"
   ]
  },
  {
   "cell_type": "markdown",
   "metadata": {
    "id": "W0HlCkyVzgjr"
   },
   "source": [
    "### Задание 1:  Описать класс нейросети-автокодировщика, описываемой в этом задании."
   ]
  },
  {
   "cell_type": "code",
   "execution_count": 63,
   "metadata": {
    "id": "-6iQPC-8zgjr"
   },
   "outputs": [],
   "source": [
    "# define the NN architecture\n",
    "class ConvAutoencoder(nn.Module):\n",
    "    def __init__(self):\n",
    "        super(ConvAutoencoder, self).__init__()\n",
    "        self.hidden_dim = 32\n",
    "        self.encoder = nn.ModuleList([\n",
    "            nn.Conv2d(in_channels=1, out_channels=8, kernel_size=3, padding=1, stride=2, bias=False),\n",
    "            nn.BatchNorm2d(num_features=8),\n",
    "            nn.ReLU(),\n",
    "            nn.Conv2d(in_channels=8, out_channels=64, kernel_size=3, padding=1, stride=2, bias=False),\n",
    "            nn.BatchNorm2d(num_features=64),\n",
    "            nn.ReLU(),\n",
    "            nn.Conv2d(in_channels=64, out_channels=256, kernel_size=3, padding=1, stride=2, bias=False),\n",
    "            nn.BatchNorm2d(num_features=256),\n",
    "            nn.ReLU()\n",
    "        ])\n",
    "        \n",
    "        self.embedding = nn.ModuleList([\n",
    "            nn.Linear(4096, 1024),\n",
    "            nn.BatchNorm1d(num_features=1024),\n",
    "            nn.ReLU(),\n",
    "            nn.Linear(1024, self.hidden_dim),\n",
    "            nn.BatchNorm1d(num_features=self.hidden_dim),\n",
    "            nn.ReLU(),\n",
    "            nn.Linear(self.hidden_dim, 1024),\n",
    "            nn.BatchNorm1d(num_features=1024),\n",
    "            nn.ReLU(),\n",
    "            nn.Linear(1024, 4096),\n",
    "            nn.BatchNorm1d(num_features=4096),\n",
    "            nn.ReLU()\n",
    "        ])\n",
    "        \n",
    "        self.decoder = nn.ModuleList([\n",
    "            nn.Upsample(scale_factor=(2,2), mode='bilinear'),\n",
    "            nn.ConvTranspose2d(in_channels=256, out_channels=64, kernel_size=3, stride=1, padding=1),\n",
    "            nn.BatchNorm2d(num_features=64),\n",
    "            nn.ReLU(),\n",
    "            nn.Upsample(scale_factor=(2,2), mode='bilinear'),\n",
    "            nn.ConvTranspose2d(in_channels=64, out_channels=8, kernel_size=3, stride=1, padding=2),\n",
    "            nn.BatchNorm2d(num_features=8),\n",
    "            nn.ReLU(),\n",
    "            nn.Upsample(scale_factor=(2,2), mode='bilinear'),\n",
    "            nn.ConvTranspose2d(in_channels=8, out_channels=1, kernel_size=3, stride=1, padding=1),\n",
    "            nn.Sigmoid()\n",
    "        ])\n",
    "\n",
    "\n",
    "    def forward(self, x):\n",
    "        ## применить операции кодировщика ##\n",
    "        \n",
    "        ## применить операции декодера ##\n",
    "        ## На всех скрытых слоях применяйте функцию активации ReLU\n",
    "        ## В случае, если данные отнормированы к диапазону [0,1], активацией последнего слоя может быть sigmoid.\n",
    "        ## Подумайте, какая может быть функция активации в других случаях. Реализуйте подходящий вариант\n",
    "        \n",
    "        #x = x.unsqueeze_(0)\n",
    "        for _, f in enumerate(self.encoder) :\n",
    "            x = f(x)\n",
    "        \n",
    "        x_shape = x.shape\n",
    "        x = torch.flatten(x, start_dim=1)\n",
    "        \n",
    "        for _, f in enumerate(self.embedding) :\n",
    "            x = f(x)\n",
    "            \n",
    "        x = torch.reshape(x, x_shape)\n",
    "\n",
    "        for _, f in enumerate(self.decoder) :\n",
    "            x = f(x)\n",
    "            \n",
    "        #x = x.squeeze(0)\n",
    "        return x"
   ]
  },
  {
   "cell_type": "code",
   "execution_count": 72,
   "metadata": {
    "colab": {
     "base_uri": "https://localhost:8080/"
    },
    "id": "1x3E7ps6zgjr",
    "outputId": "b2b8d2e5-7e8f-4daa-cd90-3b7da3c3ac14"
   },
   "outputs": [
    {
     "name": "stdout",
     "output_type": "stream",
     "text": [
      "ConvAutoencoder(\n",
      "  (encoder): ModuleList(\n",
      "    (0): Conv2d(1, 8, kernel_size=(3, 3), stride=(2, 2), padding=(1, 1), bias=False)\n",
      "    (1): BatchNorm2d(8, eps=1e-05, momentum=0.1, affine=True, track_running_stats=True)\n",
      "    (2): ReLU()\n",
      "    (3): Conv2d(8, 64, kernel_size=(3, 3), stride=(2, 2), padding=(1, 1), bias=False)\n",
      "    (4): BatchNorm2d(64, eps=1e-05, momentum=0.1, affine=True, track_running_stats=True)\n",
      "    (5): ReLU()\n",
      "    (6): Conv2d(64, 256, kernel_size=(3, 3), stride=(2, 2), padding=(1, 1), bias=False)\n",
      "    (7): BatchNorm2d(256, eps=1e-05, momentum=0.1, affine=True, track_running_stats=True)\n",
      "    (8): ReLU()\n",
      "  )\n",
      "  (embedding): ModuleList(\n",
      "    (0): Linear(in_features=4096, out_features=1024, bias=True)\n",
      "    (1): BatchNorm1d(1024, eps=1e-05, momentum=0.1, affine=True, track_running_stats=True)\n",
      "    (2): ReLU()\n",
      "    (3): Linear(in_features=1024, out_features=32, bias=True)\n",
      "    (4): BatchNorm1d(32, eps=1e-05, momentum=0.1, affine=True, track_running_stats=True)\n",
      "    (5): ReLU()\n",
      "    (6): Linear(in_features=32, out_features=1024, bias=True)\n",
      "    (7): BatchNorm1d(1024, eps=1e-05, momentum=0.1, affine=True, track_running_stats=True)\n",
      "    (8): ReLU()\n",
      "    (9): Linear(in_features=1024, out_features=4096, bias=True)\n",
      "    (10): BatchNorm1d(4096, eps=1e-05, momentum=0.1, affine=True, track_running_stats=True)\n",
      "    (11): ReLU()\n",
      "  )\n",
      "  (decoder): ModuleList(\n",
      "    (0): Upsample(scale_factor=(2.0, 2.0), mode=bilinear)\n",
      "    (1): ConvTranspose2d(256, 64, kernel_size=(3, 3), stride=(1, 1), padding=(1, 1))\n",
      "    (2): BatchNorm2d(64, eps=1e-05, momentum=0.1, affine=True, track_running_stats=True)\n",
      "    (3): ReLU()\n",
      "    (4): Upsample(scale_factor=(2.0, 2.0), mode=bilinear)\n",
      "    (5): ConvTranspose2d(64, 8, kernel_size=(3, 3), stride=(1, 1), padding=(2, 2))\n",
      "    (6): BatchNorm2d(8, eps=1e-05, momentum=0.1, affine=True, track_running_stats=True)\n",
      "    (7): ReLU()\n",
      "    (8): Upsample(scale_factor=(2.0, 2.0), mode=bilinear)\n",
      "    (9): ConvTranspose2d(8, 1, kernel_size=(3, 3), stride=(1, 1), padding=(1, 1))\n",
      "    (10): Sigmoid()\n",
      "  )\n",
      ")\n"
     ]
    }
   ],
   "source": [
    "model = ConvAutoencoder()\n",
    "print(model)"
   ]
  },
  {
   "cell_type": "code",
   "execution_count": 73,
   "metadata": {
    "id": "1g7j92G7zgjs"
   },
   "outputs": [],
   "source": [
    "model = model.to(device)"
   ]
  },
  {
   "cell_type": "markdown",
   "metadata": {
    "id": "CQC8CoNKzgjs"
   },
   "source": [
    "### Задание 4: отобразите один произвольный пример обучающей выборки и результат вычисления нейросети на этом примере."
   ]
  },
  {
   "cell_type": "code",
   "execution_count": 65,
   "metadata": {
    "colab": {
     "base_uri": "https://localhost:8080/"
    },
    "id": "XHK0n66Dzgjs",
    "outputId": "6f080fe0-5a65-44b0-ace7-69eb98d9aff0"
   },
   "outputs": [
    {
     "name": "stdout",
     "output_type": "stream",
     "text": [
      "example shape: torch.Size([1, 28, 28])\n",
      "after model shape: torch.Size([1, 28, 28])\n"
     ]
    },
    {
     "name": "stderr",
     "output_type": "stream",
     "text": [
      "/usr/local/lib/python3.7/dist-packages/torch/nn/functional.py:3458: UserWarning: Default upsampling behavior when mode=bilinear is changed to align_corners=False since 0.4.0. Please specify align_corners=True if the old behavior is desired. See the documentation of nn.Upsample for details.\n",
      "  \"See the documentation of nn.Upsample for details.\".format(mode)\n"
     ]
    }
   ],
   "source": [
    "example_index = int(np.random.randint(0, len(train_dataset), size=1))\n",
    "example = train_dataset[example_index]\n",
    "\n",
    "## compute model output for this example;\n",
    "## Transfer the result to CPU and convrt it from tensor to numpy array\n",
    "print(f'example shape: {example.shape}')\n",
    "with torch.no_grad() :\n",
    "    example = example.unsqueeze_(0)\n",
    "    example = example.to(device)\n",
    "    untrained_model = ConvAutoencoder().to(device)\n",
    "    untrained_model.eval()\n",
    "    example_transformed = untrained_model(example)\n",
    "    example_transformed = example_transformed.squeeze(0)\n",
    "print(f'after model shape: {example_transformed.shape}')"
   ]
  },
  {
   "cell_type": "code",
   "execution_count": 66,
   "metadata": {
    "colab": {
     "base_uri": "https://localhost:8080/",
     "height": 397
    },
    "id": "Crka8Rfczgjt",
    "outputId": "8e342114-8230-4bcc-ded0-718795300fd6"
   },
   "outputs": [
    {
     "data": {
      "image/png": "[encoded data removed]",
      "text/plain": [
       "<Figure size 1600x400 with 2 Axes>"
      ]
     },
     "metadata": {
      "tags": []
     },
     "output_type": "display_data"
    }
   ],
   "source": [
    "fig, axes = plt.subplots(nrows=1, ncols=2,figsize=(8, 2), dpi=200)\n",
    "axes[0].imshow(np.squeeze(example.cpu().numpy()), cmap='gray')\n",
    "axes[0].set_xticks([])\n",
    "axes[0].set_yticks([])\n",
    "axes[1].imshow(np.squeeze(example_transformed.cpu().numpy()), cmap='gray')\n",
    "axes[1].set_xticks([])\n",
    "axes[1].set_yticks([])\n",
    "plt.tight_layout()\n",
    "fig.patch.set_facecolor('white')"
   ]
  },
  {
   "cell_type": "markdown",
   "metadata": {
    "id": "HuHcVNnSzgjt"
   },
   "source": [
    "### Обучение модели"
   ]
  },
  {
   "cell_type": "code",
   "execution_count": 75,
   "metadata": {
    "id": "aAsEDFsDzgjt"
   },
   "outputs": [],
   "source": [
    "def train_model(model: torch.nn.Module, \n",
    "                train_dataset: torch.utils.data.Dataset,\n",
    "                val_dataset: torch.utils.data.Dataset,\n",
    "                loss_function: torch.nn.Module = torch.nn.CrossEntropyLoss(),\n",
    "                optimizer_class: Type[torch.optim.Optimizer] = torch.optim.Adam,\n",
    "                optimizer_params: Dict = {},\n",
    "                lr_scheduler_class: Any = torch.optim.lr_scheduler.ReduceLROnPlateau,\n",
    "                lr_scheduler_params: Dict = {},\n",
    "                batch_size = 64,\n",
    "                max_epochs = 100,\n",
    "                early_stopping_patience = 10,\n",
    "                initial_lr=0.001\n",
    "):\n",
    "    optimizer = optimizer_class(model.parameters(), lr=initial_lr, **optimizer_params)\n",
    "    lr_scheduler = lr_scheduler_class(optimizer, **lr_scheduler_params)\n",
    "    \n",
    "    train_loader = torch.utils.data.DataLoader(train_dataset, shuffle=True, batch_size=batch_size)\n",
    "    val_loader = torch.utils.data.DataLoader(val_dataset, batch_size=batch_size)\n",
    "\n",
    "    best_val_loss = None\n",
    "    best_epoch = None\n",
    "    \n",
    "    for epoch in range(max_epochs):\n",
    "        print(f'Epoch {epoch+1} of {max_epochs}')\n",
    "        train_single_epoch(model, optimizer, loss_function, train_loader)\n",
    "        val_metrics = validate_single_epoch(model, loss_function, val_loader)\n",
    "        print(f'Validation metrics: \\n{val_metrics}')\n",
    "\n",
    "        lr_scheduler.step(val_metrics['loss'])\n",
    "        \n",
    "        if best_val_loss is None or best_val_loss > val_metrics['loss']:\n",
    "            print(f'Best model yet, saving')\n",
    "            best_val_loss = val_metrics['loss']\n",
    "            best_epoch = epoch\n",
    "            torch.save(model, 'best_model.pth')\n",
    "            \n",
    "        if epoch - best_epoch > early_stopping_patience:\n",
    "            print('Early stopping triggered')\n",
    "            return"
   ]
  },
  {
   "cell_type": "markdown",
   "metadata": {
    "id": "_77Ud8t9zgjt"
   },
   "source": [
    "### Задание 5:  Реализуйте функцию, производящую обучение сети на протяжении одной эпохи ( полного прохода по всей обучающей выборке ). На вход будет приходить модель, оптимизатор, функция потерь и объект типа `DataLoader`."
   ]
  },
  {
   "cell_type": "code",
   "execution_count": 69,
   "metadata": {
    "id": "f18J1qPPzgjt"
   },
   "outputs": [],
   "source": [
    "def train_single_epoch(model: torch.nn.Module,\n",
    "                       optimizer: torch.optim.Optimizer, \n",
    "                       loss_function: torch.nn.Module, \n",
    "                       data_loader: torch.utils.data.DataLoader):\n",
    "    \n",
    "    model.train()\n",
    "    for x in data_loader :\n",
    "        x = x.to(device)\n",
    "\n",
    "        optimizer.zero_grad()\n",
    "        output = model(x)\n",
    "        loss = loss_function(output, x)\n",
    "        \n",
    "        loss.backward()\n",
    "        optimizer.step()"
   ]
  },
  {
   "cell_type": "markdown",
   "metadata": {
    "id": "3rK-U_Vqzgju"
   },
   "source": [
    "### Задание 6:  Реализуйте функцию производящую расчёт функции потерь на тестовой выборке.  На вход будет приходить модель, функция потерь и DataLoader. На выходе ожидается словарь с вида:\n",
    "```\n",
    "{\n",
    "    'loss': <среднее значение функции потерь>,\n",
    "    'accuracy': <среднее значение точности модели>\n",
    "}\n",
    "```"
   ]
  },
  {
   "cell_type": "code",
   "execution_count": 67,
   "metadata": {
    "id": "WpLfXKvOzgju"
   },
   "outputs": [],
   "source": [
    "def validate_single_epoch(model: torch.nn.Module,\n",
    "                          loss_function: torch.nn.Module, \n",
    "                          data_loader: torch.utils.data.DataLoader):\n",
    "    \n",
    "    model.eval()\n",
    "    test_loss = 0.0\n",
    "    accuracy = 0.0\n",
    "    \n",
    "    for x in data_loader :\n",
    "        x = x.to(device)\n",
    "\n",
    "        output = model(x)\n",
    "        test_loss += loss_function(output, x).item()\n",
    "\n",
    "        #prediction = output.argmax(dim = 1, keepdim = True).view(y.shape[0]).to(device)\n",
    "        #accuracy += (prediction == y).sum().item()\n",
    "    \n",
    "    return {\n",
    "        'loss': test_loss / len(data_loader.dataset)\n",
    "        #'accuracy' : accuracy / len(data_loader.dataset)\n",
    "    }"
   ]
  },
  {
   "cell_type": "markdown",
   "metadata": {
    "id": "z6_w_gxKzgju"
   },
   "source": [
    "### Задание 7: придумайте функцию потерь.\n",
    "\n",
    "Обратите внимание, что в предложенном скелетном коде функция потерь по умолчанию прописана неверно. Вы, скорее всего, не сможете обучить автокодировщик с этой функцией потерь. Подумайте, какая должна быть функция потерь при условии, что она должна оценивать качество воспроизведения значений в каждом отдельном пикселе изображения. Впишите в ячейке ниже правильную функцию потерь. Подумайте, можно ли использовать уже предложенную функцию потерь, и что нужно сделать с данными, чтобы с ней можно было обучить вашу модель."
   ]
  },
  {
   "cell_type": "code",
   "execution_count": 85,
   "metadata": {
    "colab": {
     "base_uri": "https://localhost:8080/"
    },
    "id": "x_F2kfZbzgju",
    "outputId": "cdb9470a-d23c-48ad-a840-ae2ece87a72e"
   },
   "outputs": [
    {
     "name": "stdout",
     "output_type": "stream",
     "text": [
      "Epoch 1 of 15\n"
     ]
    },
    {
     "name": "stderr",
     "output_type": "stream",
     "text": [
      "/usr/local/lib/python3.7/dist-packages/torch/nn/functional.py:3458: UserWarning: Default upsampling behavior when mode=bilinear is changed to align_corners=False since 0.4.0. Please specify align_corners=True if the old behavior is desired. See the documentation of nn.Upsample for details.\n",
      "  \"See the documentation of nn.Upsample for details.\".format(mode)\n"
     ]
    },
    {
     "name": "stdout",
     "output_type": "stream",
     "text": [
      "Validation metrics: \n",
      "{'loss': 8.035638563537598}\n",
      "Best model yet, saving\n",
      "Epoch 2 of 15\n",
      "Validation metrics: \n",
      "{'loss': 7.995308076477051}\n",
      "Best model yet, saving\n",
      "Epoch 3 of 15\n",
      "Validation metrics: \n",
      "{'loss': 8.059216358947754}\n",
      "Epoch 4 of 15\n",
      "Validation metrics: \n",
      "{'loss': 7.96745115737915}\n",
      "Best model yet, saving\n",
      "Epoch 5 of 15\n",
      "Validation metrics: \n",
      "{'loss': 8.052071659851075}\n",
      "Epoch 6 of 15\n",
      "Validation metrics: \n",
      "{'loss': 8.012108122253418}\n",
      "Epoch 7 of 15\n",
      "Validation metrics: \n",
      "{'loss': 7.92794631652832}\n",
      "Best model yet, saving\n",
      "Epoch 8 of 15\n",
      "Validation metrics: \n",
      "{'loss': 7.99456994934082}\n",
      "Epoch 9 of 15\n",
      "Validation metrics: \n",
      "{'loss': 7.984804969787597}\n",
      "Epoch 10 of 15\n",
      "Validation metrics: \n",
      "{'loss': 8.001898123168946}\n",
      "Epoch 11 of 15\n",
      "Validation metrics: \n",
      "{'loss': 7.984078526306153}\n",
      "Epoch 12 of 15\n",
      "Validation metrics: \n",
      "{'loss': 7.9702067405700685}\n",
      "Epoch 13 of 15\n",
      "Validation metrics: \n",
      "{'loss': 7.957682018280029}\n",
      "Epoch 14 of 15\n",
      "Validation metrics: \n",
      "{'loss': 7.984130654907227}\n",
      "Epoch 15 of 15\n",
      "Validation metrics: \n",
      "{'loss': 7.995615447998047}\n"
     ]
    }
   ],
   "source": [
    "train_model(model, \n",
    "            train_dataset=train_dataset, \n",
    "            val_dataset=val_dataset, \n",
    "            loss_function=nn.MSELoss(reduction='sum'), \n",
    "            initial_lr=1e-5, \n",
    "            max_epochs=15)"
   ]
  },
  {
   "cell_type": "markdown",
   "metadata": {
    "id": "-Q3ozJPyPJGX"
   },
   "source": [
    "Наилучшая модель сохранена в best_model.pth. Для этой модели получено значение loss=7,92794 на валидационной выборке. Далее будем применять её для идентификации аномалий."
   ]
  },
  {
   "cell_type": "markdown",
   "metadata": {
    "id": "9dokArF5zgjv"
   },
   "source": [
    "## Проверка результатов"
   ]
  },
  {
   "cell_type": "code",
   "execution_count": 140,
   "metadata": {
    "colab": {
     "base_uri": "https://localhost:8080/"
    },
    "id": "gne_1Yhnzgjv",
    "outputId": "5602992d-503d-4eb6-ca42-3b79de6fa2f0"
   },
   "outputs": [
    {
     "name": "stderr",
     "output_type": "stream",
     "text": [
      "/usr/local/lib/python3.7/dist-packages/torch/nn/functional.py:3458: UserWarning: Default upsampling behavior when mode=bilinear is changed to align_corners=False since 0.4.0. Please specify align_corners=True if the old behavior is desired. See the documentation of nn.Upsample for details.\n",
      "  \"See the documentation of nn.Upsample for details.\".format(mode)\n"
     ]
    }
   ],
   "source": [
    "index = int(np.random.randint(0, len(train_dataset), size=1))\n",
    "sample = train_dataset[index][0]\n",
    "sample_np = np.squeeze(sample.detach().cpu().numpy())\n",
    "sample_ae = model(sample.view(1,1,28,28).to(device))\n",
    "sample_ae_np = np.squeeze(sample_ae.detach().cpu().numpy())"
   ]
  },
  {
   "cell_type": "code",
   "execution_count": 141,
   "metadata": {
    "colab": {
     "base_uri": "https://localhost:8080/",
     "height": 423
    },
    "id": "DmCGnwwfzgjv",
    "outputId": "acce103c-c13e-43d2-fe95-6d11b0fc3c25"
   },
   "outputs": [
    {
     "data": {
      "text/plain": [
       "<matplotlib.image.AxesImage at 0x7f827f3f2350>"
      ]
     },
     "execution_count": 141,
     "metadata": {
      "tags": []
     },
     "output_type": "execute_result"
    },
    {
     "data": {
      "image/png": "[encoded data removed]",
      "text/plain": [
       "<Figure size 800x400 with 2 Axes>"
      ]
     },
     "metadata": {
      "tags": []
     },
     "output_type": "display_data"
    }
   ],
   "source": [
    "fig, axes = plt.subplots(nrows=1, ncols=2, figsize=(4, 2), dpi=200)\n",
    "for i, ax in enumerate(axes):\n",
    "    img = sample_np if i==0 else sample_ae_np\n",
    "    ax.imshow(img, cmap='gray')\n",
    "    ax.set_xticks([])\n",
    "    ax.set_yticks([])\n",
    "plt.tight_layout()\n",
    "fig.patch.set_facecolor('white')\n",
    "plt.imshow(img, cmap='gray')"
   ]
  },
  {
   "cell_type": "markdown",
   "metadata": {
    "id": "QEBwHz6-zgjw"
   },
   "source": [
    "## Идентификация аномалий.\n",
    "### Задание 8: примените обученную модель автокодировщика к данным тестовой выборки. Вычислите функцию потерь на каждом объекте тестовой выборки."
   ]
  },
  {
   "cell_type": "code",
   "execution_count": 92,
   "metadata": {
    "colab": {
     "base_uri": "https://localhost:8080/"
    },
    "id": "B9nd_SnYzgjw",
    "outputId": "4a39585b-0f4f-4ff5-a887-9e7b55d7cb72"
   },
   "outputs": [
    {
     "name": "stderr",
     "output_type": "stream",
     "text": [
      "  0%|          | 0/10000 [00:00<?, ?it/s]/usr/local/lib/python3.7/dist-packages/torch/nn/functional.py:3458: UserWarning: Default upsampling behavior when mode=bilinear is changed to align_corners=False since 0.4.0. Please specify align_corners=True if the old behavior is desired. See the documentation of nn.Upsample for details.\n",
      "  \"See the documentation of nn.Upsample for details.\".format(mode)\n",
      "100%|██████████| 10000/10000 [00:50<00:00, 197.22it/s, loss=17.9]\n"
     ]
    }
   ],
   "source": [
    "model.eval()\n",
    "test_dataset = DS(mnist_test_samples, val_transforms)\n",
    "test_loader = torch.utils.data.DataLoader(test_dataset, batch_size=1, shuffle=False)\n",
    "loss_function = nn.MSELoss(reduction='sum')\n",
    "\n",
    "losses = []\n",
    "\n",
    "with torch.no_grad():\n",
    "    with tqdm(total=len(test_loader)) as pbar:\n",
    "        for data in test_loader:\n",
    "            data = data.to(device)\n",
    "            output = model(data)\n",
    "            curr_loss = loss_function(output, data).item()\n",
    "            losses.append(curr_loss)\n",
    "            pbar.set_postfix({'loss' : curr_loss})\n",
    "            pbar.update(1)"
   ]
  },
  {
   "cell_type": "markdown",
   "metadata": {
    "id": "EUmAfSPgzgjw"
   },
   "source": [
    "## Анализ значений функции потерь\n",
    "### Задание 9:\n",
    "- Отобразите гистограмму значений функции потерь. Сделайте выводы (напишите ТЕКСТ) относительно значений для обычных объектов и аномалий.\n",
    "- Найдите объекты-аномалии, отобразите их.\n",
    "- Вычислите на них обученный вами автокодировщик. Отобразите рядом объекты-аномалии и их реконструкцию, вычисленную вашим автокодировщиком."
   ]
  },
  {
   "cell_type": "code",
   "execution_count": 97,
   "metadata": {
    "colab": {
     "base_uri": "https://localhost:8080/",
     "height": 386
    },
    "id": "TqFBqNb_zgjw",
    "outputId": "75dd0b0d-cd77-4dff-c1f1-0d28fd989f17"
   },
   "outputs": [
    {
     "data": {
      "image/png": "[encoded data removed]",
      "text/plain": [
       "<Figure size 2160x720 with 1 Axes>"
      ]
     },
     "metadata": {
      "needs_background": "light",
      "tags": []
     },
     "output_type": "display_data"
    }
   ],
   "source": [
    "import seaborn as sns\n",
    "fig, ax = plt.subplots(figsize=(30,10))\n",
    "sns.histplot(losses)\n",
    "ax.set_title('Losses distibution', fontsize = 30)\n",
    "ax.set_xlabel('Loss', fontsize = 30)\n",
    "ax.set_ylabel('Count', fontsize = 30)\n",
    "ax.set_xticks(np.arange(0, 120, step = 5))\n",
    "plt.tight_layout()"
   ]
  },
  {
   "cell_type": "code",
   "execution_count": 126,
   "metadata": {
    "colab": {
     "base_uri": "https://localhost:8080/"
    },
    "id": "cfE9BAKlSC_B",
    "outputId": "5d1192cf-d370-4832-dbf2-6c696c14c6b2"
   },
   "outputs": [
    {
     "name": "stdout",
     "output_type": "stream",
     "text": [
      "Count of anomalies: 16\n",
      "Length of test dataset: 10000\n"
     ]
    }
   ],
   "source": [
    "threshold = 35\n",
    "anomalies = []\n",
    "for i, loss in enumerate(losses) :\n",
    "    if loss > threshold : \n",
    "        anomalies.append((i, loss))\n",
    "print(f'Count of anomalies: {len(anomalies)}\\nLength of test dataset: {len(losses)}')"
   ]
  },
  {
   "cell_type": "markdown",
   "metadata": {
    "id": "gVmsfeDcXARx"
   },
   "source": [
    "По гистограмме распределения ошибки автокодировщика заметно, что нормальными являются значения от 0 до 20. После этого плавным повышением порога от 20 и визуализируя аномальные экземпляры приходим к выводу, что последним похожим на цифру изображением является изображение с loss=33. Таким образом, экспериментально подобрано пороговое значение функции потерь: threshold=35."
   ]
  },
  {
   "cell_type": "code",
   "execution_count": 131,
   "metadata": {
    "colab": {
     "base_uri": "https://localhost:8080/",
     "height": 559
    },
    "id": "v_8cTH7XTBH8",
    "outputId": "2fd88f00-1c31-4cff-f987-619274c91e39"
   },
   "outputs": [
    {
     "name": "stderr",
     "output_type": "stream",
     "text": [
      "/usr/local/lib/python3.7/dist-packages/torch/nn/functional.py:3458: UserWarning: Default upsampling behavior when mode=bilinear is changed to align_corners=False since 0.4.0. Please specify align_corners=True if the old behavior is desired. See the documentation of nn.Upsample for details.\n",
      "  \"See the documentation of nn.Upsample for details.\".format(mode)\n"
     ]
    },
    {
     "data": {
      "image/png": "[encoded data removed]",
      "text/plain": [
       "<Figure size 2000x1000 with 10 Axes>"
      ]
     },
     "metadata": {
      "tags": []
     },
     "output_type": "display_data"
    }
   ],
   "source": [
    "indices = np.random.randint(0, len(anomalies), size=5)\n",
    "\n",
    "fig, axes = plt.subplots(nrows=2, ncols=5, figsize=(10, 5), dpi=200)\n",
    "for i in range(5) :\n",
    "    sample_index = anomalies[indices[i]][0]\n",
    "    loss = anomalies[indices[i]][1]\n",
    "    sample = test_dataset[sample_index]\n",
    "    sample = sample.unsqueeze_(0)\n",
    "    axes[0][i].imshow(np.squeeze(sample), cmap='gray')\n",
    "    axes[0][i].set_xticks([])\n",
    "    axes[0][i].set_yticks([])\n",
    "\n",
    "    model.eval()\n",
    "    sample = sample.to(device)\n",
    "    with torch.no_grad() :\n",
    "        output = model(sample)\n",
    "    axes[1][i].set_title('№{}, loss {:.1f}'.format(sample_index, loss))\n",
    "    axes[1][i].imshow(np.squeeze(output.cpu().numpy()), cmap='gray')\n",
    "    axes[1][i].set_xticks([])\n",
    "    axes[1][i].set_yticks([])\n",
    "plt.tight_layout()\n",
    "fig.patch.set_facecolor('white')"
   ]
  },
  {
   "cell_type": "markdown",
   "metadata": {
    "id": "eS38hSqYzgjw"
   },
   "source": [
    "### Задание 10: создайте файл маркировки аномалий\n",
    "\n",
    "В этом задании требуется записать в файл признаки аномальности для всех объектов тестовой выборки в том порядке, в котором эти объекты идут в выборке. Это должен быть просто текстовый файл. В нем не должно быть никаких заголовков, никаких дополнительных символов. Только `0` или `1`"
   ]
  },
  {
   "cell_type": "code",
   "execution_count": 138,
   "metadata": {
    "id": "V2UjmG7Yzgjw"
   },
   "outputs": [],
   "source": [
    "result = np.zeros((len(test_dataset)))\n",
    "for pair in anomalies :\n",
    "    index = pair[0]\n",
    "    result[index] = 1\n",
    "np.savetxt('answer.txt', result, newline='', delimiter='', fmt='%d')"
   ]
  }
 ],
 "metadata": {
  "accelerator": "GPU",
  "colab": {
   "collapsed_sections": [],
   "name": "HW06_solution.ipynb",
   "provenance": []
  },
  "kernelspec": {
   "display_name": "Python 3",
   "language": "python",
   "name": "python3"
  },
  "language_info": {
   "codemirror_mode": {
    "name": "ipython",
    "version": 3
   },
   "file_extension": ".py",
   "mimetype": "text/x-python",
   "name": "python",
   "nbconvert_exporter": "python",
   "pygments_lexer": "ipython3",
   "version": "3.9.2"
  }
 },
 "nbformat": 4,
 "nbformat_minor": 1
}
